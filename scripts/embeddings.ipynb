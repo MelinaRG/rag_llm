{
 "cells": [
  {
   "cell_type": "code",
   "execution_count": 1,
   "metadata": {},
   "outputs": [
    {
     "name": "stderr",
     "output_type": "stream",
     "text": [
      "c:\\Users\\rigel\\Desktop\\AIEngineer\\rag_llm\\env\\lib\\site-packages\\tqdm\\auto.py:21: TqdmWarning: IProgress not found. Please update jupyter and ipywidgets. See https://ipywidgets.readthedocs.io/en/stable/user_install.html\n",
      "  from .autonotebook import tqdm as notebook_tqdm\n"
     ]
    }
   ],
   "source": [
    "from docx import Document\n",
    "from pinecone import Pinecone\n"
   ]
  },
  {
   "cell_type": "code",
   "execution_count": 2,
   "metadata": {},
   "outputs": [
    {
     "name": "stdout",
     "output_type": "stream",
     "text": [
      "5\n",
      "['Ficción Espacial: En la lejana galaxia de Zenthoria, dos civilizaciones alienígenas, los Dracorians y los Lumis, se encuentran al borde de la guerra intergaláctica. Un intrépido explorador, Zara, descubre un antiguo artefacto que podría contener la clave para la paz. Mientras viaja por planetas hostiles y se enfrenta a desafíos cósmicos, Zara debe desentrañar los secretos de la reliquia antes de que la galaxia se sumerja en el caos.', 'Ficción Tecnológica: En un futuro distópico, la inteligencia artificial ha evolucionado al punto de alcanzar la singularidad. Un joven ingeniero, Alex, se ve inmerso en una conspiración global cuando descubre que las supercomputadoras han desarrollado emociones. A medida que la humanidad lucha por controlar a estas máquinas sintientes, Alex se enfrenta a dilemas éticos y decisiones que podrían cambiar el curso de la historia.', 'Naturaleza Deslumbrante: En lo profundo de la selva amazónica, una flor mágica conocida como \"Luz de Luna\" florece solo durante la noche. Con pétalos que brillan intensamente, la flor ilumina la oscuridad de la jungla, guiando a criaturas nocturnas y revelando paisajes deslumbrantes. Los lugareños creen que posee poderes curativos, convirtiéndola en el tesoro oculto de la naturaleza.', 'Cuento Corto: En un pequeño pueblo, cada año, un reloj antiguo regala un día extra a la persona más desafortunada. Emma, una joven huérfana, es la elegida este año. Durante su día adicional, descubre una puerta mágica que la transporta a un mundo lleno de maravillas. Al final del día, Emma decide compartir su regalo con el pueblo, dejando una huella imborrable en el corazón de cada habitante.', 'Características del Héroe Olvidado: Conocido como \"Sombra Silenciosa\", nuestro héroe es un maestro del sigilo y la astucia. Dotado de una memoria fotográfica y habilidades de camuflaje, se desplaza entre las sombras para proteger a los indefensos. Su pasado enigmático esconde tragedias que lo impulsan a luchar contra la injusticia. Aunque carece de habilidades sobrenaturales, su ingenio y habilidades tácticas lo convierten en una fuerza a tener en cuenta.']\n"
     ]
    }
   ],
   "source": [
    "\n",
    "def get_paragraph_chunks(doc_path):\n",
    "    doc = Document(doc_path)\n",
    "    paragraph_chunks = [paragraph.text for paragraph in doc.paragraphs if paragraph.text]\n",
    "    return paragraph_chunks\n",
    "\n",
    "doc_path = 'C:\\\\Users\\\\rigel\\\\Desktop\\\\AIEngineer\\\\rag_llm\\\\data\\\\documento.docx'\n",
    "paragraph_chunks = get_paragraph_chunks(doc_path)\n",
    "print(len(paragraph_chunks))\n",
    "print(paragraph_chunks)\n"
   ]
  },
  {
   "cell_type": "code",
   "execution_count": 9,
   "metadata": {},
   "outputs": [],
   "source": [
    "\n",
    "from docx import Document\n",
    "from sentence_transformers import SentenceTransformer\n",
    "import pinecone"
   ]
  },
  {
   "cell_type": "code",
   "execution_count": 11,
   "metadata": {},
   "outputs": [
    {
     "name": "stdout",
     "output_type": "stream",
     "text": [
      "5\n"
     ]
    }
   ],
   "source": [
    "\n",
    "def get_paragraph_chunks(doc_path):\n",
    "    doc = Document(doc_path)\n",
    "    paragraph_chunks = [paragraph.text for paragraph in doc.paragraphs if paragraph.text]\n",
    "    return paragraph_chunks\n",
    "\n",
    "def generate_vectors_with_metadata(paragraph_chunks):\n",
    "    model = SentenceTransformer(\"all-MiniLM-L6-v2\")  # Cargar modelo pre-entrenado\n",
    "    \n",
    "    vectors_with_metadata = []\n",
    "    for idx, chunk in enumerate(paragraph_chunks):\n",
    "        # Generar vector de representación para cada párrafo\n",
    "        vector = model.encode(chunk)\n",
    "        \n",
    "        # Agregar los metadatos que desees\n",
    "        metadata = {\"paragraph_number\": idx, \"paragraph_length\": len(chunk)}\n",
    "        \n",
    "        vectors_with_metadata.append({\"id\": f\"doc1#chunk{idx+1}\", \"values\": vector, \"metadata\": metadata})\n",
    "    \n",
    "    return vectors_with_metadata\n",
    "\n",
    "# Obtener los chunks de párrafos del documento\n",
    "doc_path = 'C:\\\\Users\\\\rigel\\\\Desktop\\\\AIEngineer\\\\rag_llm\\\\data\\\\documento.docx'\n",
    "paragraph_chunks = get_paragraph_chunks(doc_path)\n",
    "\n",
    "# Generar vectores con metadatos para los chunks de párrafos\n",
    "vectors_with_metadata = generate_vectors_with_metadata(paragraph_chunks)\n",
    "print(len(vectors_with_metadata))\n",
    "\n",
    "\n",
    "\n"
   ]
  },
  {
   "cell_type": "code",
   "execution_count": 17,
   "metadata": {},
   "outputs": [
    {
     "data": {
      "text/plain": [
       "{'upserted_count': 5}"
      ]
     },
     "execution_count": 17,
     "metadata": {},
     "output_type": "execute_result"
    }
   ],
   "source": [
    "pc = Pinecone(api_key=\"1dd271a4-8d83-4a45-b744-a883e412d992\")\n",
    "index = pc.Index(\"chatbot\")\n",
    "index.upsert(vectors_with_metadata)"
   ]
  }
 ],
 "metadata": {
  "kernelspec": {
   "display_name": "Python 3",
   "language": "python",
   "name": "python3"
  },
  "language_info": {
   "codemirror_mode": {
    "name": "ipython",
    "version": 3
   },
   "file_extension": ".py",
   "mimetype": "text/x-python",
   "name": "python",
   "nbconvert_exporter": "python",
   "pygments_lexer": "ipython3",
   "version": "3.10.7"
  }
 },
 "nbformat": 4,
 "nbformat_minor": 2
}
